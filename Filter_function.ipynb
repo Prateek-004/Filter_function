{
 "cells": [
  {
   "cell_type": "markdown",
   "id": "c51ec5dc-d504-4dd8-af8e-f34223586c41",
   "metadata": {},
   "source": [
    "# Filter Function:"
   ]
  },
  {
   "cell_type": "markdown",
   "id": "384d6fdc-c061-4ca2-8397-30104093fc95",
   "metadata": {},
   "source": [
    "##### Q.1 Given a list of numbers, use filter() to create a new list containing only the even numbers ."
   ]
  },
  {
   "cell_type": "code",
   "execution_count": 9,
   "id": "28b52bc4-c0cd-4763-852d-347a95706b70",
   "metadata": {},
   "outputs": [
    {
     "name": "stdout",
     "output_type": "stream",
     "text": [
      "[2, 4, 6, 8, 10]\n"
     ]
    }
   ],
   "source": [
    "a = [1, 2, 3, 4, 5, 6, 7, 8, 9, 10]\n",
    "even_list =list(filter(lambda x:x%2==0,a))\n",
    "print(even_list)"
   ]
  },
  {
   "cell_type": "markdown",
   "id": "3d575199-707d-4ca5-afc0-5b532e29814d",
   "metadata": {},
   "source": [
    "##### Q.2 Given a list of strings, use filter() to remove all empty strings ."
   ]
  },
  {
   "cell_type": "code",
   "execution_count": 10,
   "id": "974cd1a7-aa9b-477f-a98a-3a140e08a6bc",
   "metadata": {},
   "outputs": [
    {
     "name": "stdout",
     "output_type": "stream",
     "text": [
      "['apple', 'banana', 'cherry']\n"
     ]
    }
   ],
   "source": [
    "lst = [\"apple\", \"\", \"banana\", \"\", \"cherry\"]\n",
    "non_empty_list = list(filter(lambda x: len(x)>0,lst))\n",
    "print(non_empty_list)"
   ]
  },
  {
   "cell_type": "markdown",
   "id": "b1029dbc-4145-47bd-87a8-53b156a5c847",
   "metadata": {},
   "source": [
    "##### Q.3 Given a list of numbers, use filter() to get only those greater than 10 ."
   ]
  },
  {
   "cell_type": "code",
   "execution_count": 12,
   "id": "2976744f-f28d-45b4-a7c9-40242e2cfee4",
   "metadata": {},
   "outputs": [
    {
     "name": "stdout",
     "output_type": "stream",
     "text": [
      "[12, 15, 20, 11]\n"
     ]
    }
   ],
   "source": [
    "lst = [4, 12, 7, 15, 9, 20, 3, 11]\n",
    "greater_list = list(filter(lambda x: x>10,lst))\n",
    "print(greater_list)"
   ]
  },
  {
   "cell_type": "markdown",
   "id": "9945a3af-65fa-4ece-8f69-e0b971ff7d5f",
   "metadata": {},
   "source": [
    "##### Q.4 Given a list of words, use filter() to keep only those starting with the letter \"b\" ."
   ]
  },
  {
   "cell_type": "code",
   "execution_count": 14,
   "id": "02a60587-dbd0-4d62-9fd5-a785117f8d4b",
   "metadata": {},
   "outputs": [
    {
     "name": "stdout",
     "output_type": "stream",
     "text": [
      "['banana', 'berry', 'blueberry']\n"
     ]
    }
   ],
   "source": [
    "lst = [\"banana\", \"apple\", \"berry\", \"cherry\", \"blueberry\"]\n",
    "b_list = list(filter(lambda x:x[0]==\"b\",lst)) # finding the words whose first letter is equal to b\n",
    "print(b_list)\n"
   ]
  },
  {
   "cell_type": "markdown",
   "id": "7fb7c73f-0b15-4ad1-bd03-27a69fde5872",
   "metadata": {},
   "source": [
    "##### Q.5 Given a list of integers, use filter() to keep only non-negative numbers ."
   ]
  },
  {
   "cell_type": "code",
   "execution_count": 16,
   "id": "9d7d660f-2dec-4f5a-b9c4-67712f29f18e",
   "metadata": {},
   "outputs": [
    {
     "name": "stdout",
     "output_type": "stream",
     "text": [
      "[0, 5, 8, 2]\n"
     ]
    }
   ],
   "source": [
    "lst = [-3, 0, 5, -1, 8, -7, 2]\n",
    "positive_numbers = list(filter(lambda x:x>-1,lst)) # filtering all the numbers greater than -1\n",
    "print(positive_numbers)"
   ]
  },
  {
   "cell_type": "markdown",
   "id": "58883f29-f237-4a6f-bc24-5677f4c47277",
   "metadata": {},
   "source": [
    "##### Q.6 Given a list of strings, use filter() to keep only those longer than 5 characters ."
   ]
  },
  {
   "cell_type": "code",
   "execution_count": 28,
   "id": "4900d33c-c422-4244-bd87-81634bce2450",
   "metadata": {},
   "outputs": [
    {
     "name": "stdout",
     "output_type": "stream",
     "text": [
      "['python', 'filter', 'function']\n"
     ]
    }
   ],
   "source": [
    "lst = [\"hello\", \"world\", \"python\", \"filter\", \"function\", \"test\"]\n",
    "longer_than_5 = list(filter(lambda x:len(x)>5,lst)) # checking all the strings whose length is greater than 5\n",
    "print(longer_than_5)"
   ]
  },
  {
   "cell_type": "markdown",
   "id": "ac93adbd-a479-4391-9ade-3431bc9700b6",
   "metadata": {},
   "source": [
    "##### Q.7 Given a list of words, use filter() to keep only the palindromes ."
   ]
  },
  {
   "cell_type": "code",
   "execution_count": 51,
   "id": "eb58d230-61c4-4323-a11c-c7197b58ba20",
   "metadata": {},
   "outputs": [
    {
     "name": "stdout",
     "output_type": "stream",
     "text": [
      "['level', 'radar', 'madam']\n"
     ]
    }
   ],
   "source": [
    "def palindrome(a):\n",
    "    reverse = a[::-1] #reversing the strings\n",
    "    if a==reverse:  # checking if the original string is equal to the reverse string or not \n",
    "        return True\n",
    "    else:\n",
    "        return False\n",
    "\n",
    "lst = [\"level\", \"world\", \"radar\", \"python\", \"madam\", \"test\"]\n",
    "palindrome_list=list(filter(lambda x:palindrome(x)==True,lst)) #the word which is same after reversing get stored\n",
    "print(palindrome_list)"
   ]
  },
  {
   "cell_type": "markdown",
   "id": "7e62fd14-01fe-4d9d-b3bc-7fe1b7b08927",
   "metadata": {},
   "source": [
    "##### Q.8 Given a list of numbers, use filter() to keep only the prime numbers ."
   ]
  },
  {
   "cell_type": "code",
   "execution_count": 71,
   "id": "0707f65b-254c-4afe-a772-8b209fbc3ea4",
   "metadata": {},
   "outputs": [
    {
     "name": "stdout",
     "output_type": "stream",
     "text": [
      "[2, 3, 5, 7, 11, 13]\n"
     ]
    }
   ],
   "source": [
    "lst = [2, 3, 4, 5, 6, 7, 8, 9, 10, 11, 12, 13]\n",
    "a = list(filter(lambda x : all(x%i!=0 for i in range(2,x)),lst)) # storing all the numbers which are not divisible by any number\n",
    "print(a)"
   ]
  },
  {
   "cell_type": "markdown",
   "id": "886e4d5b-5335-48c6-af42-b06101670932",
   "metadata": {},
   "source": [
    "##### Q.9 Given a list with mixed values, use filter() to remove all falsy values ."
   ]
  },
  {
   "cell_type": "code",
   "execution_count": 74,
   "id": "2bcab661-48f7-4d2c-9122-5d63fe433585",
   "metadata": {},
   "outputs": [
    {
     "name": "stdout",
     "output_type": "stream",
     "text": [
      "[0, 1, 2, 3, 4]\n"
     ]
    }
   ],
   "source": [
    "lst = [0, 1, False, 2, \"\", 3, None, 4]\n",
    "true_list = list(filter(lambda x: type(x)==int,lst)) # checking all the numbers whose data type is int\n",
    "print(true_list)"
   ]
  },
  {
   "cell_type": "markdown",
   "id": "eb13d5d8-b2bd-4312-9a74-3c250621a9f9",
   "metadata": {},
   "source": [
    "##### Q.10 Given a list of tuples of integers, use filter() to keep only those where all numbers are positive ."
   ]
  },
  {
   "cell_type": "code",
   "execution_count": 84,
   "id": "3b7afed5-dcfc-418f-a018-e7c82f8eaf92",
   "metadata": {},
   "outputs": [
    {
     "name": "stdout",
     "output_type": "stream",
     "text": [
      "[(1, 2), (5, 6), (7, 8)]\n"
     ]
    }
   ],
   "source": [
    "lst = [(1, 2), (3, -4), (5, 6), (-1, 2), (7, 8)]\n",
    "positive_list = list(filter(lambda x:x[0]>-1 and x[1]>-1,lst)) # filtering and storing all the numbers greater than -1 in both index of the tuples\n",
    "print(positive_list)"
   ]
  },
  {
   "cell_type": "markdown",
   "id": "baeaf662-d315-479e-bff4-e46f2c79f4f0",
   "metadata": {},
   "source": [
    "##### Q.11 Given a list of dictionaries, use filter() to keep only those that have the key \"id\" ."
   ]
  },
  {
   "cell_type": "code",
   "execution_count": 89,
   "id": "45fc9749-eb46-4849-ae23-a1550f840392",
   "metadata": {},
   "outputs": [
    {
     "name": "stdout",
     "output_type": "stream",
     "text": [
      "[{'id': 1, 'name': 'Alice'}, {'id': 2, 'name': 'Carol'}]\n"
     ]
    }
   ],
   "source": [
    "lst = [{\"id\": 1, \"name\": \"Alice\"}, {\"name\": \"Bob\"}, {\"id\": 2, \"name\": \"Carol\"}]\n",
    "sorted_list = list(filter(lambda x:\"id\" in x.keys(),lst))\n",
    "print(sorted_list)"
   ]
  },
  {
   "cell_type": "markdown",
   "id": "2bca12e1-6a01-45a4-8274-35cd76b0b57a",
   "metadata": {},
   "source": [
    "##### Q.12 Given a list of strings, use filter() to keep only those that represent valid integers ."
   ]
  },
  {
   "cell_type": "code",
   "execution_count": 97,
   "id": "5f2d92c0-e90a-4428-8484-0459ef9ce280",
   "metadata": {},
   "outputs": [
    {
     "name": "stdout",
     "output_type": "stream",
     "text": [
      "['123', '456', '100']\n"
     ]
    }
   ],
   "source": [
    "def proper(a):\n",
    "    try:\n",
    "        if(int(a)): # if input can be converted in int then storing it\n",
    "            return (True)\n",
    "    except:\n",
    "        return(False)\n",
    "\n",
    "lst = [\"123\", \"abc\", \"456\", \"7.89\", \"100\", \"xyz\"]\n",
    "proper_numbers = list(filter(lambda x:proper(x)==True,lst)) # filtering all the elements of lst with the use of proper function.\n",
    "print(proper_numbers)"
   ]
  },
  {
   "cell_type": "markdown",
   "id": "f2800275-fcfe-4482-8e9d-0a10b723a79e",
   "metadata": {},
   "source": [
    "##### Q.13 Given a list with duplicate numbers, use filter() to keep only the first occurrence of each number ."
   ]
  },
  {
   "cell_type": "code",
   "execution_count": 67,
   "id": "45c3b617-299f-4c6a-b641-d99a84771a97",
   "metadata": {},
   "outputs": [
    {
     "name": "stdout",
     "output_type": "stream",
     "text": [
      "[1, 2, 3, 4, 5, 6]\n"
     ]
    }
   ],
   "source": [
    "lst = [1, 2, 2, 3, 4, 3, 5, 1, 6]\n",
    "duplicate_list = list(set(filter(lambda x:lst.count(x)>1,lst))) #storing all the numbers which are duplicate\n",
    "singular_list = list(filter(lambda x: x not in duplicate_list,lst)) #storing all the numbers whose occurance is 1\n",
    "unique_list = list(singular_list + duplicate_list) # creating a list of all the number in lst with duplication removed \n",
    "print(sorted(unique_list))"
   ]
  },
  {
   "cell_type": "markdown",
   "id": "12131bf8-68db-4b5c-9d9e-9f892a6e5fa2",
   "metadata": {},
   "source": [
    "##### Q.14 Given a list of dictionaries with \"age\" keys, use filter() to keep only those where age is greater than 30 ."
   ]
  },
  {
   "cell_type": "code",
   "execution_count": 149,
   "id": "e4e0af51-0a21-472d-9912-db879ac7174e",
   "metadata": {},
   "outputs": [
    {
     "name": "stdout",
     "output_type": "stream",
     "text": [
      "[{'name': 'Bob', 'age': 35}, {'name': 'Carol', 'age': 40}]\n"
     ]
    }
   ],
   "source": [
    "lst = [{\"name\": \"Alice\", \"age\": 25}, {\"name\": \"Bob\", \"age\": 35}, {\"name\": \"Carol\", \"age\": 40}]\n",
    "upper_than_30 = list(filter(lambda x:x[\"age\"]>30,lst)) #filtering and saving all the dict. which age greater than 30\n",
    "print(upper_than_30)"
   ]
  },
  {
   "cell_type": "markdown",
   "id": "54877f31-86ca-4026-96e6-de55a22198e2",
   "metadata": {},
   "source": [
    "##### Q.15 Given a list of lists of numbers, use filter() to keep only those sublists where all numbers are even ."
   ]
  },
  {
   "cell_type": "code",
   "execution_count": 152,
   "id": "19779cbf-0969-4b93-980a-089b700467bb",
   "metadata": {},
   "outputs": [
    {
     "name": "stdout",
     "output_type": "stream",
     "text": [
      "[[2, 4, 6], [8, 10], [12, 14, 16]]\n"
     ]
    }
   ],
   "source": [
    "lst = [[2, 4, 6], [1, 2, 4], [8, 10], [3, 5, 7], [12, 14, 16]]\n",
    "even_list = list(filter(lambda x:all(i%2==0 for i in x),lst)) # checking and storing all the number that get completely divisible by 2\n",
    "print(even_list)"
   ]
  },
  {
   "cell_type": "markdown",
   "id": "7f83e4d3-4625-49ab-93e9-40c5e24bf818",
   "metadata": {},
   "source": [
    "##### Q.16 Given a list of strings, use filter() to keep only those containing only alphabetic characters ."
   ]
  },
  {
   "cell_type": "code",
   "execution_count": 183,
   "id": "1c6f8196-5ca9-49a6-9682-aef7de2fc3a4",
   "metadata": {},
   "outputs": [
    {
     "name": "stdout",
     "output_type": "stream",
     "text": [
      "['hello', 'filter', 'example']\n"
     ]
    }
   ],
   "source": [
    "def pure(a):\n",
    "    b=a.upper()\n",
    "    try:\n",
    "        if all((j!=i) for i,j in zip(a,b)):  #checking if the input is equal to it's uppercase or not\n",
    "             return(\"True\")\n",
    "    except:\n",
    "         return(\"False\")\n",
    "                \n",
    "                \n",
    "lst = [\"hello\", \"world123\", \"python!\", \"filter\", \"test_case\", \"example\"]\n",
    "clean_lst = list(filter(lambda x:pure(x)==\"True\",lst))  # storing all the word which have only alphabets\n",
    "print(clean_lst)"
   ]
  },
  {
   "cell_type": "markdown",
   "id": "9a301323-606c-42b1-8317-86cc780c7ad2",
   "metadata": {},
   "source": [
    "##### Q.17 Given a list of numbers, use filter() to keep only those that appear more than once ."
   ]
  },
  {
   "cell_type": "code",
   "execution_count": 184,
   "id": "4565e73c-a9a3-4d10-96c4-ec510d1a812d",
   "metadata": {},
   "outputs": [
    {
     "name": "stdout",
     "output_type": "stream",
     "text": [
      "[1, 2, 2, 3, 3, 1]\n"
     ]
    }
   ],
   "source": [
    "lst = [1, 2, 2, 3, 4, 3, 5, 1, 6]\n",
    "duplicate_list = list(filter(lambda x:lst.count(x)>1,lst))  # storing all the integer whose count is greater than 1\n",
    "print(duplicate_list)"
   ]
  },
  {
   "cell_type": "markdown",
   "id": "13267d7e-2104-4ae1-b8de-8a7cfe1f714c",
   "metadata": {},
   "source": [
    "##### Q.18 Given a list of words, use filter() to keep only those with three or more vowels ."
   ]
  },
  {
   "cell_type": "code",
   "execution_count": 59,
   "id": "c6ccf0a1-ef82-4d37-8c88-bbd1eb57684e",
   "metadata": {},
   "outputs": [
    {
     "name": "stdout",
     "output_type": "stream",
     "text": [
      "['banana', 'elderberry']\n"
     ]
    }
   ],
   "source": [
    "def count_vowels(word):\n",
    "    count = 0\n",
    "    for i in word:\n",
    "        if i in vowel_list:  # checking every alphabet of word of lst in vowel_list\n",
    "            count+=1  # increase the count if a vowel found \n",
    "    return count\n",
    "\n",
    "lst = [\"apple\", \"banana\", \"cherry\", \"date\", \"elderberry\", \"fig\", \"grape\"]\n",
    "vowel_list = [\"a\",\"e\",\"i\",\"o\",\"u\"]\n",
    "\n",
    "vowel_rich_words = list(filter(lambda x:count_vowels(x)>=3, lst)) # storing all the words which carry more than 2 vowels\n",
    "print(vowel_rich_words)"
   ]
  },
  {
   "cell_type": "markdown",
   "id": "fb0250db-e6fc-44fe-90a4-0de52e18812e",
   "metadata": {},
   "source": [
    "##### Q.19 Given a list of date strings in the format \"YYYY-MM-DD\", use filter() to keep only those have 2023 ."
   ]
  },
  {
   "cell_type": "code",
   "execution_count": 5,
   "id": "3a80ae03-d6c3-4e5e-8e89-6b46519cade6",
   "metadata": {},
   "outputs": [
    {
     "name": "stdout",
     "output_type": "stream",
     "text": [
      "['2023-01-01', '2023-06-15']\n"
     ]
    }
   ],
   "source": [
    "def breaking(a):\n",
    "    b = list(a.split(\"-\"))\n",
    "    if \"2023\" in b:\n",
    "        return(\"yes\") #if 2023 in list b then returning yes\n",
    "    else:\n",
    "        return(\"no\") # if not then returning no\n",
    "\n",
    "lst = [\"2022-12-31\", \"2023-01-01\", \"2023-06-15\", \"2024-03-10\"]\n",
    "lst_2023 = list(filter(lambda x: breaking(x)==\"yes\",lst))  # filtering lst on the base of breaking function\n",
    "print(lst_2023)"
   ]
  },
  {
   "cell_type": "markdown",
   "id": "fa241461-44f4-40c9-941e-afc88e27525b",
   "metadata": {},
   "source": [
    "##### Q.20 Given a list of dictionaries, each with a nested dictionary under the key \"profile\", use filter() to keep only those where \"profile\" has \"active\": True ."
   ]
  },
  {
   "cell_type": "code",
   "execution_count": 35,
   "id": "fd3851a4-016e-4785-bb01-80f02872e44e",
   "metadata": {},
   "outputs": [
    {
     "name": "stdout",
     "output_type": "stream",
     "text": [
      "[{'name': 'Alice', 'profile': {'active': True}}, {'name': 'Carol', 'profile': {'active': True}}]\n"
     ]
    }
   ],
   "source": [
    "lst = [{\"name\": \"Alice\", \"profile\": {\"active\": True}}, {\"name\": \"Bob\", \"profile\": {\"active\": False}}, {\"name\": \"Carol\", \"profile\": {\"active\": True}}]\n",
    "active_lst = list(filter(lambda x: x[\"profile\"][\"active\"]==True,lst)) #filtering all the dict. which have true as a value for the active key\n",
    "print(active_lst)"
   ]
  }
 ],
 "metadata": {
  "kernelspec": {
   "display_name": "Python 3 (ipykernel)",
   "language": "python",
   "name": "python3"
  },
  "language_info": {
   "codemirror_mode": {
    "name": "ipython",
    "version": 3
   },
   "file_extension": ".py",
   "mimetype": "text/x-python",
   "name": "python",
   "nbconvert_exporter": "python",
   "pygments_lexer": "ipython3",
   "version": "3.13.2"
  }
 },
 "nbformat": 4,
 "nbformat_minor": 5
}
